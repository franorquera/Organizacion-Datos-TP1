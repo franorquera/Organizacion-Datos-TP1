{
  "cells": [
    {
      "cell_type": "code",
      "execution_count": 2,
      "metadata": {
        "id": "eOVzitrnGdRr"
      },
      "outputs": [],
      "source": [
        "import re\n",
        "import json\n",
        "import bz2\n",
        "import pickle\n",
        "import zstandard\n",
        "import numpy as np\n",
        "import pandas as pd\n",
        "import seaborn as sns\n",
        "import matplotlib.pyplot as plt\n",
        "from scipy.stats import entropy\n",
        "from sklearn.feature_extraction.text import CountVectorizer\n",
        "from sklearn.feature_extraction.text import TfidfVectorizer\n",
        "from tqdm import tqdm"
      ]
    },
    {
      "cell_type": "code",
      "execution_count": null,
      "metadata": {},
      "outputs": [],
      "source": [
        "def compress_size(bytefile):\n",
        "    return len(zstandard.compress(bytefile))\n",
        "\n",
        "def ncd(obj1, obj2):\n",
        "    len1 = compress_size(obj1)\n",
        "    len2 = compress_size(obj2)\n",
        "    concat_len = len(zstandard.compress(obj1+obj2))\n",
        "    return (concat_len-min(len1, len2))/max(len1, len2)"
      ]
    },
    {
      "cell_type": "code",
      "execution_count": null,
      "metadata": {
        "colab": {
          "base_uri": "https://localhost:8080/"
        },
        "id": "tbE5V_LJGiii",
        "outputId": "09704db2-af71-4304-bd65-83ea12b49899"
      },
      "outputs": [],
      "source": [
        "from google.colab import drive\n",
        "drive.mount('/content/drive')"
      ]
    },
    {
      "cell_type": "markdown",
      "metadata": {
        "id": "4FJa4ZevGdRt"
      },
      "source": [
        "# P10\n",
        "### ¿Cual es el nombre del usuario que hizo más reviews en el estado de California?"
      ]
    },
    {
      "cell_type": "code",
      "execution_count": 3,
      "metadata": {
        "id": "b0xxSkWqGdRu"
      },
      "outputs": [],
      "source": [
        "users = pd.read_csv(\"/content/drive/MyDrive/Orga Datos/TP1/Dataset/user.csv\")\n",
        "businesses = pd.read_csv(\"/content/drive/MyDrive/Orga Datos/TP1/Dataset/business.csv\")\n",
        "reviews = pd.read_csv(\"/content/drive/MyDrive/Orga Datos/TP1/Dataset/review.csv\")"
      ]
    },
    {
      "cell_type": "code",
      "execution_count": null,
      "metadata": {
        "id": "J34_mO25GdRv"
      },
      "outputs": [],
      "source": [
        "newUsers = users[[\"user_id\", \"name\", \"review_count\"]]\n",
        "newBusinesses = businesses[[\"business_id\", \"state\"]]\n",
        "newReviews = reviews[[\"review_id\", \"user_id\", \"business_id\", \"text\"]]\n",
        "newUsers.dropna(inplace=True)\n",
        "newBusinesses.dropna(inplace=True)\n",
        "newReviews.dropna(inplace=True)"
      ]
    },
    {
      "cell_type": "code",
      "execution_count": 32,
      "metadata": {
        "id": "qGGU96u3GdRv"
      },
      "outputs": [],
      "source": [
        "# Primero quiero buscar los locales que son del estado de California\n",
        "californiaBusinesses = newBusinesses.loc[newBusinesses[\"state\"].str.contains(\"CA\")]\n",
        "californiaBusinesses = californiaBusinesses.reset_index()"
      ]
    },
    {
      "cell_type": "code",
      "execution_count": null,
      "metadata": {
        "id": "jl7zwNu2GdRw"
      },
      "outputs": [],
      "source": [
        "# Me quedo con las reviews que son de los locales de California\n",
        "californiaReviews = californiaBusinesses.merge(newReviews, left_on='business_id', right_on='business_id')\n",
        "californiaReviews.set_index('index')\n",
        "californiaReviews = californiaReviews.drop('index', axis=1)"
      ]
    },
    {
      "cell_type": "code",
      "execution_count": null,
      "metadata": {
        "id": "xCYIWTvuGdRx"
      },
      "outputs": [],
      "source": [
        "usersReviews = californiaReviews.groupby(\"user_id\").agg({\"review_id\": 'count'})\n",
        "usersWithMoreReviews = usersReviews.nlargest(5,'review_id')\n",
        "usersWithMoreReviewsCA = usersWithMoreReviews.rename(columns={\"review_id\": \"review_count_CA\"})"
      ]
    },
    {
      "cell_type": "code",
      "execution_count": null,
      "metadata": {
        "id": "bw3kxol6GdRx"
      },
      "outputs": [],
      "source": [
        "californiaUsers = usersWithMoreReviewsCA.merge(newUsers, left_on=\"user_id\", right_on=\"user_id\")"
      ]
    },
    {
      "cell_type": "code",
      "execution_count": 44,
      "metadata": {
        "colab": {
          "base_uri": "https://localhost:8080/"
        },
        "id": "GyztYJJ6GdRy",
        "outputId": "032a83f2-561d-4293-df62-6136e32611a7"
      },
      "outputs": [
        {
          "name": "stdout",
          "output_type": "stream",
          "text": [
            "The user with more reviews is: Eric\n"
          ]
        }
      ],
      "source": [
        "californiaUser = californiaUsers.loc[0]\n",
        "californiaUserName = californiaUser[[\"name\"]].to_list()\n",
        "print(\"The user with more reviews is:\", californiaUserName[0])"
      ]
    },
    {
      "cell_type": "markdown",
      "metadata": {
        "id": "mMCkHAbvGdRy"
      },
      "source": [
        "# V1 (Heatmap)\n",
        "### Correlación entre votos useful, funny y cool"
      ]
    },
    {
      "cell_type": "code",
      "execution_count": 53,
      "metadata": {
        "id": "XwPSblFPGdRz"
      },
      "outputs": [],
      "source": [
        "votes = reviews[[\"useful\", \"funny\", \"cool\"]]\n",
        "corrReviews = votes.corr()"
      ]
    },
    {
      "cell_type": "code",
      "execution_count": 49,
      "metadata": {
        "colab": {
          "base_uri": "https://localhost:8080/",
          "height": 680
        },
        "id": "DE3TStlWGdRz",
        "outputId": "1ec4a460-8001-4dc9-c5c7-0da7676eaa57"
      },
      "outputs": [
        {
          "data": {
            "image/png": "[encoded data removed]",
            "text/plain": [
              "<Figure size 750x750 with 2 Axes>"
            ]
          },
          "metadata": {
            "needs_background": "light"
          },
          "output_type": "display_data"
        }
      ],
      "source": [
        "plt.figure(figsize=(5,5), dpi=150)\n",
        "sns.heatmap(corrReviews, cmap='Greys', vmin=0.75, vmax=1)\n",
        "plt.title(\"Correlación entre votos useful, funny y cool\")\n",
        "plt.show()"
      ]
    },
    {
      "cell_type": "markdown",
      "metadata": {
        "id": "ZmYY2SZFGdRz"
      },
      "source": [
        "## V4 (Heatmap)\n",
        "### Correlación de abrir por días de la semana"
      ]
    },
    {
      "cell_type": "code",
      "execution_count": null,
      "metadata": {
        "id": "9Wocb2DyGdR0"
      },
      "outputs": [],
      "source": [
        "businessesHours = businesses[[\"hours\"]]\n",
        "businessesHours.dropna(inplace=True)"
      ]
    },
    {
      "cell_type": "code",
      "execution_count": 19,
      "metadata": {
        "id": "bYpeXZtWGdR0"
      },
      "outputs": [],
      "source": [
        "datesList = []\n",
        "for item in businessesHours[\"hours\"]: datesList.append(json.loads(item.replace(\"'\", '\"')))\n",
        "\n",
        "for date in datesList: \n",
        "    for key, value in date.items(): date[key] = 1\n",
        "\n",
        "dfDates = pd.DataFrame(datesList)"
      ]
    },
    {
      "cell_type": "code",
      "execution_count": 20,
      "metadata": {
        "id": "R97tkEFTGdR0"
      },
      "outputs": [],
      "source": [
        "dfDates = dfDates.fillna(0)\n",
        "dfDates.rename(columns={\"Monday\": \"Lunes\", \"Tuesday\": \"Martes\", \"Wednesday\": \"Miercoles\", \"Thursday\": \"Jueves\", \"Friday\": \"Viernes\", \"Saturday\": \"Sabado\", \"Sunday\": \"Domingo\"}, inplace=True)\n",
        "corrDates = dfDates.corr()"
      ]
    },
    {
      "cell_type": "code",
      "execution_count": 21,
      "metadata": {
        "colab": {
          "base_uri": "https://localhost:8080/",
          "height": 787
        },
        "id": "lSwadl1GGdR0",
        "outputId": "0587d59a-2ff7-4107-f73a-e39e367c8f3e"
      },
      "outputs": [
        {
          "data": {
            "image/png": "[encoded data removed]",
            "text/plain": [
              "<Figure size 750x750 with 2 Axes>"
            ]
          },
          "metadata": {
            "needs_background": "light"
          },
          "output_type": "display_data"
        }
      ],
      "source": [
        "plt.figure(figsize=(5,5), dpi=150)\n",
        "sns.heatmap(corrDates, cmap='RdYlBu', vmin=-1, vmax=1)\n",
        "plt.title(\"Correlación de abrir por \\n días de la semana\")\n",
        "plt.show()"
      ]
    },
    {
      "cell_type": "markdown",
      "metadata": {
        "id": "88k-AqSYGdR1"
      },
      "source": [
        "# N3\n",
        "### La 3-upla de palabras (no letras) más común en los comentarios de los tips. De ser necesario, se puede utilizar un sample y no la totalidad de datos."
      ]
    },
    {
      "cell_type": "code",
      "execution_count": null,
      "metadata": {
        "id": "V_4pP6NhGdR1"
      },
      "outputs": [],
      "source": [
        "import nltk\n",
        "nltk.download('stopwords')\n",
        "from nltk.corpus import stopwords"
      ]
    },
    {
      "cell_type": "code",
      "execution_count": 34,
      "metadata": {
        "id": "0rAX4NZlGdR1"
      },
      "outputs": [],
      "source": [
        "tips = pd.read_csv(\"/content/drive/MyDrive/Orga Datos/TP1/Dataset/tip.csv\")"
      ]
    },
    {
      "cell_type": "code",
      "execution_count": null,
      "metadata": {
        "id": "KzKQmOAvGdR2"
      },
      "outputs": [],
      "source": [
        "#tips.dropna(inplace=True)\n",
        "tipsText = tips[[\"text\"]]\n",
        "tipsText.dropna(inplace=True)\n",
        "# Puedo usar un sample del dataset\n",
        "#tipsText = tipsText.sample(10000)\n",
        "#tipsTextList = tipsText['text'].to_list()\n",
        "#tipsTextList = tipsText[:100000][\"text\"].to_list()\n",
        "tipsTextList = tipsText[:10000][\"text\"].to_list()"
      ]
    },
    {
      "cell_type": "code",
      "execution_count": 42,
      "metadata": {
        "id": "Z28DSnJ7GdR2"
      },
      "outputs": [],
      "source": [
        "stopwords = set(stopwords.words('english'))"
      ]
    },
    {
      "cell_type": "code",
      "execution_count": 43,
      "metadata": {
        "id": "LIkYf4_XGdR3"
      },
      "outputs": [],
      "source": [
        "count_vectorizer = CountVectorizer(lowercase=True, stop_words=stopwords, ngram_range=(3,3), analyzer=\"word\")"
      ]
    },
    {
      "cell_type": "code",
      "execution_count": 44,
      "metadata": {
        "id": "qQV45ZG0GdR3"
      },
      "outputs": [],
      "source": [
        "tf_matrix = count_vectorizer.fit_transform(tipsTextList)"
      ]
    },
    {
      "cell_type": "code",
      "execution_count": 45,
      "metadata": {
        "id": "OSmgiZ1RSOa3"
      },
      "outputs": [],
      "source": [
        "# Frecuencias de la suma\n",
        "sumaFrecuenciaMatriz = sum(tf_matrix).data"
      ]
    },
    {
      "cell_type": "code",
      "execution_count": 46,
      "metadata": {
        "id": "yUeNs54Fhgdk"
      },
      "outputs": [],
      "source": [
        "featureNames = count_vectorizer.get_feature_names_out()"
      ]
    },
    {
      "cell_type": "code",
      "execution_count": 47,
      "metadata": {
        "id": "VfL50Cdgi5B0"
      },
      "outputs": [],
      "source": [
        "df = pd.DataFrame(sumaFrecuenciaMatriz, index=featureNames)\n",
        "df = df.rename(columns={0: 'sum_frecuencia'})"
      ]
    },
    {
      "cell_type": "code",
      "execution_count": 48,
      "metadata": {
        "colab": {
          "base_uri": "https://localhost:8080/",
          "height": 35
        },
        "id": "KUvW0aaOrs4y",
        "outputId": "3d4676ae-4598-4a8c-de9b-e74dee5a28ef"
      },
      "outputs": [
        {
          "data": {
            "application/vnd.google.colaboratory.intrinsic+json": {
              "type": "string"
            },
            "text/plain": [
              "'lots meats including'"
            ]
          },
          "execution_count": 48,
          "metadata": {},
          "output_type": "execute_result"
        }
      ],
      "source": [
        "threeUple = df.nlargest(1, columns=\"sum_frecuencia\").index\n",
        "threeUpleWords = threeUple[0]\n",
        "threeUpleWords"
      ]
    },
    {
      "cell_type": "markdown",
      "metadata": {
        "id": "SORv8e9P7u9o"
      },
      "source": [
        "# C3\n",
        "### Utilizando la declaración universal de los derechos humanos en español y portugues y utilizando la distancia normalizada de compresión, encuentre una review en español y otra en portugues (puede tomar un sample siempre y cuando sea capaz de encontrar eso en el sample)."
      ]
    },
    {
      "cell_type": "code",
      "execution_count": 53,
      "metadata": {
        "id": "zjbjlqw7MsOE"
      },
      "outputs": [],
      "source": [
        "dHEsp = \"\"\"\n",
        "Declaración Universal de Derechos Humanos\n",
        "Adoptada y proclamada por la Asamblea General en su resolución 217 A (III), de\n",
        "10 de diciembre de 1948 Preámbulo\n",
        "Considerando que la libertad, la justicia y la paz en el mundo tienen por base el reconocimiento de la dignidad intrínseca y de los derechos iguales e inalienables de todos los miembros de la familia humana,\n",
        "Considerando que el desconocimiento y el menosprecio de los derechos humanos han originado actos de barbarie ultrajantes para la conciencia de la humanidad; y que se ha proclamado, como la aspiración más elevada del hombre, el advenimiento de un mundo en que los seres humanos, liberados del temor y de la miseria, disfruten de la libertad de palabra y de la libertad de creencias,\n",
        "Considerando esencial que los derechos humanos sean protegidos por un régimen de Derecho, a fin de que el hombre no se vea compelido al supremo recurso de la rebelión contra la tiranía y la opresión,\n",
        "Considerando también esencial promover el desarrollo de relaciones amistosas entre las naciones,\n",
        "Considerando que los pueblos de las Naciones Unidas han reafirmado en la Carta su fe en los derechos fundamentales del hombre, en la dignidad y el valor de la persona humana y en la igualdad de derechos de hombres y mujeres; y se han declarado resueltos a promover el progreso social y a elevar el nivel de vida dentro de un concepto más amplio de la libertad,\n",
        "Considerando que los Estados Miembros se han comprometido a asegurar, en cooperación con la Organización de las Naciones Unidas, el respeto universal y efectivo a los derechos y libertades fundamentales del hombre, y\n",
        "Considerando que una concepción común de estos derechos y libertades es de la mayor importancia para el pleno cumplimiento de dicho compromiso,\n",
        "\n",
        "La Asamblea General\n",
        "Proclama la presente Declaración Universal de Derechos Humanos como ideal común por el que todos los pueblos y naciones deben esforzarse, a fin de que tanto los individuos como las instituciones, inspirándose constantemente en ella, promuevan, mediante la enseñanza y la educación, el respeto a estos derechos y libertades, y aseguren, por medidas progresivas de carácter nacional e internacional, su reconocimiento y aplicación universales y efectivos, tanto entre los pueblos de los Estados Miembros como entre los de los territorios colocados bajo su jurisdicción.\n",
        "Artículo 1\n",
        "Todos los seres humanos nacen libres e iguales en dignidad y derechos y, dotados como están de razón y conciencia, deben comportarse fraternalmente los unos con los otros.\n",
        "Artículo 2\n",
        "Toda persona tiene los derechos y libertades proclamados en esta Declaración, sin distinción alguna de raza, color, sexo, idioma, religión, opinión política o de cualquier otra índole, origen nacional o social, posición económica, nacimiento o cualquier otra condición.\n",
        "Además, no se hará distinción alguna fundada en la condición política, jurídica o internacional del país o territorio de cuya jurisdicción dependa una persona, tanto si se trata de un país independiente, como de un territorio bajo administración fiduciaria, no autónomo o sometido a cualquier otra limitación de soberanía.\n",
        "Artículo 3\n",
        "Todo individuo tiene derecho a la vida, a la libertad y a la seguridad de su persona.\n",
        "\n",
        "Artículo 4\n",
        "Nadie estará sometido a esclavitud ni a servidumbre; la esclavitud y la trata de\n",
        "esclavos están prohibidas en todas sus formas. Artículo 5\n",
        "Nadie será sometido a torturas ni a penas o tratos crueles, inhumanos o degradantes.\n",
        "Artículo 6\n",
        "Todo ser humano tiene derecho, en todas partes, al reconocimiento de su\n",
        "personalidad jurídica. Artículo 7\n",
        "Todos son iguales ante la ley y tienen, sin distinción, derecho a igual protección de la ley. Todos tienen derecho a igual protección contra toda discriminación que infrinja esta Declaración y contra toda provocación a tal discriminación.\n",
        "Artículo 8\n",
        "Toda persona tiene derecho a un recurso efectivo, ante los tribunales nacionales competentes, que la ampare contra actos que violen sus derechos fundamentales reconocidos por la constitución o por la ley.\n",
        "Artículo 9\n",
        "Nadie podrá ser arbitrariamente detenido, preso ni desterrado. Artículo 10\n",
        "Toda persona tiene derecho, en condiciones de plena igualdad, a ser oída públicamente y con justicia por un tribunal independiente e imparcial, para la\n",
        "\n",
        "determinación de sus derechos y obligaciones o para el examen de cualquier acusación contra ella en materia penal.\n",
        "Artículo 11\n",
        "1. Todapersonaacusadadedelitotienederechoaquesepresumasu inocencia mientras no se pruebe su culpabilidad, conforme a la ley y en juicio público en el que se le hayan asegurado todas las garantías necesarias para su defensa.\n",
        "2. Nadie será condenado por actos u omisiones que en el momento de cometerse no fueron delictivos según el Derecho nacional o internacional. Tampoco se impondrá pena más grave que la aplicable en el momento de la comisión del delito.\n",
        "Artículo 12\n",
        "Nadie será objeto de injerencias arbitrarias en su vida privada, su familia, su domicilio o su correspondencia, ni de ataques a su honra o a su reputación. Toda persona tiene derecho a la protección de la ley contra tales injerencias o ataques.\n",
        "Artículo 13\n",
        "1. Todapersonatienederechoacircularlibrementeyaelegirsuresidencia en el territorio de un Estado.\n",
        "2. Todapersonatienederechoasalirdecualquierpaís,inclusoelpropio,y a regresar a su país.\n",
        "Artículo 14\n",
        "1. Encasodepersecución,todapersonatienederechoabuscarasilo,ya disfrutar de él, en cualquier país.\n",
        "\n",
        "2. Estederechonopodráserinvocadocontraunaacciónjudicialrealmente originada por delitos comunes o por actos opuestos a los propósitos y principios de las Naciones Unidas.\n",
        "Artículo 15\n",
        "1. Todapersonatienederechoaunanacionalidad.\n",
        "2. Anadieseprivaráarbitrariamentedesunacionalidadnidelderechoa\n",
        "cambiar de nacionalidad.\n",
        "Artículo 16\n",
        "1. Loshombresylasmujeres,apartirdelaedadnúbil,tienenderecho,sin restricción alguna por motivos de raza, nacionalidad o religión, a casarse y fundar una familia; y disfrutarán de iguales derechos en cuanto al matrimonio, durante el matrimonio y en caso de disolución del matrimonio.\n",
        "2. Sólomediantelibreyplenoconsentimientodelosfuturosesposospodrá contraerse el matrimonio.\n",
        "3. Lafamiliaeselelementonaturalyfundamentaldelasociedadytiene derecho a la protección de la sociedad y del Estado.\n",
        "Artículo 17\n",
        "1. Todapersonatienederechoalapropiedad,individualycolectivamente.\n",
        "2. Nadieseráprivadoarbitrariamentedesupropiedad. Artículo 18\n",
        "Toda persona tiene derecho a la libertad de pensamiento, de conciencia y de religión; este derecho incluye la libertad de cambiar de religión o de creencia, así como la libertad de manifestar su religión o su creencia, individual y colectivamente, tanto en público como en privado, por la enseñanza, la práctica, el culto y la observancia.\n",
        "\n",
        "Artículo 19\n",
        "Todo individuo tiene derecho a la libertad de opinión y de expresión; este derecho incluye el no ser molestado a causa de sus opiniones, el de investigar y recibir informaciones y opiniones, y el de difundirlas, sin limitación de fronteras, por cualquier medio de expresión.\n",
        "Artículo 20\n",
        "1. Todapersonatienederechoalalibertaddereuniónydeasociación pacíficas.\n",
        "2. Nadiepodráserobligadoaperteneceraunaasociación.\n",
        "Artículo 21\n",
        "1. Todapersonatienederechoaparticiparenelgobiernodesupaís, directamente o por medio de representantes libremente escogidos.\n",
        "2. Todapersonatieneelderechodeacceso,encondicionesdeigualdad,a las funciones públicas de su país.\n",
        "3. Lavoluntaddelpuebloeslabasedelaautoridaddelpoderpúblico;esta voluntad se expresará mediante elecciones auténticas que habrán de celebrarse periódicamente, por sufragio universal e igual y por voto secreto u otro procedimiento equivalente que garantice la libertad del voto.\n",
        "Artículo 22\n",
        "Toda persona, como miembro de la sociedad, tiene derecho a la seguridad social, y a obtener, mediante el esfuerzo nacional y la cooperación internacional, habida cuenta de la organización y los recursos de cada Estado, la satisfacción de los derechos económicos, sociales y culturales, indispensables a su dignidad y al libre desarrollo de su personalidad.\n",
        "\n",
        "Artículo 23\n",
        "1. Todapersonatienederechoaltrabajo,alalibreeleccióndesutrabajo,a condiciones equitativas y satisfactorias de trabajo y a la protección contra el desempleo.\n",
        "2. Todapersonatienederecho,sindiscriminaciónalguna,aigualsalariopor trabajo igual.\n",
        "3. Todapersonaquetrabajatienederechoaunaremuneraciónequitativay satisfactoria, que le asegure, así como a su familia, una existencia conforme a la dignidad humana y que será completada, en caso necesario, por cualesquiera otros medios de protección social.\n",
        "4. Todapersonatienederechoafundarsindicatosyasindicarseparala defensa de sus intereses.\n",
        "Artículo 24\n",
        "Toda persona tiene derecho al descanso, al disfrute del tiempo libre, a una limitación razonable de la duración del trabajo y a vacaciones periódicas pagadas.\n",
        "Artículo 25\n",
        "1. Todapersonatienederechoaunniveldevidaadecuadoqueleasegure, así como a su familia, la salud y el bienestar, y en especial la alimentación, el vestido, la vivienda, la asistencia médica y los servicios sociales necesarios; tiene asimismo derecho a los seguros en caso de desempleo, enfermedad, invalidez, viudez, vejez y otros casos de pérdida de sus medios de subsistencia por circunstancias independientes de su voluntad.\n",
        "2. Lamaternidadylainfanciatienenderechoacuidadosyasistencia especiales. Todos los niños, nacidos de matrimonio o fuera de matrimonio, tienen derecho a igual protección social.\n",
        "\n",
        "Artículo 26\n",
        "1. Toda persona tiene derecho a la educación. La educación debe ser gratuita, al menos en lo concerniente a la instrucción elemental y fundamental. La instrucción elemental será obligatoria. La instrucción técnica y profesional habrá de ser generalizada; el acceso a los estudios superiores será igual para todos, en función de los méritos respectivos.\n",
        "2. Laeducacióntendráporobjetoelplenodesarrollodelapersonalidad humana y el fortalecimiento del respeto a los derechos humanos y a las libertades fundamentales; favorecerá la comprensión, la tolerancia y la amistad entre todas las naciones y todos los grupos étnicos o religiosos; y promoverá el desarrollo de las actividades de las Naciones Unidas para el mantenimiento de la paz.\n",
        "3. Lospadrestendránderechopreferenteaescogereltipodeeducación que habrá de darse a sus hijos.\n",
        "Artículo 27\n",
        "1. Todapersonatienederechoatomarpartelibrementeenlavidacultural de la comunidad, a gozar de las artes y a participar en el progreso científico y en los beneficios que de él resulten.\n",
        "2. Todapersonatienederechoalaproteccióndelosinteresesmoralesy materiales que le correspondan por razón de las producciones científicas, literarias o artísticas de que sea autora.\n",
        "Artículo 28\n",
        "Toda persona tiene derecho a que se establezca un orden social e internacional en el que los derechos y libertades proclamados en esta Declaración se hagan plenamente efectivos.\n",
        "Artículo 29\n",
        "\n",
        "1. Todapersonatienedeberesrespectoalacomunidad,puestoquesóloen ella puede desarrollar libre y plenamente su personalidad.\n",
        "2. Enelejerciciodesusderechosyeneldisfrutedesuslibertades,toda persona estará solamente sujeta a las limitaciones establecidas por la ley con el único fin de asegurar el reconocimiento y el respeto de los derechos y libertades de los demás, y de satisfacer las justas exigencias de la moral, del orden público y del bienestar general en una sociedad democrática.\n",
        "3. Estosderechosylibertadesnopodránenningúncasoserejercidosen oposición a los propósitos y principios de las Naciones Unidas.\n",
        "Artículo 30\n",
        "Nada en la presente Declaración podrá interpretarse en el sentido de que confiere derecho alguno al Estado, a un grupo o a una persona, para emprender y desarrollar actividades o realizar actos tendientes a la supresión de cualquiera de los derechos y libertades proclamados en esta Declaración.\n",
        "\"\"\""
      ]
    },
    {
      "cell_type": "code",
      "execution_count": 54,
      "metadata": {
        "id": "Nu9PnvGCNKtQ"
      },
      "outputs": [],
      "source": [
        "dHPort = \"\"\"\n",
        "Declaração Universal dos Direitos Humanos\n",
        "*tradução oficial, UNITED NATIONS HIGH COMMISSIONER FOR HUMAN RIGHTS\n",
        "Preâmbulo\n",
        "Considerando que o reconhecimento da dignidade inerente a todos os membros da família humana e dos seus direitos iguais e inalienáveis constitui o fundamento da liberdade, da justiça e da paz no mundo;\n",
        "Considerando que o desconhecimento e o desprezo dos direitos do Homem conduziram a atos de barbárie que revoltam a consciência da Humanidade e que o advento de um mundo em que os seres humanos sejam livres de falar e de crer, libertos do terror e da miséria, foi proclamado como a mais alta inspiração do Homem;\n",
        "Considerando que é essencial a proteção dos direitos do Homem através de um regime de direito, para que o Homem não seja compelido, em supremo recurso, à revolta contra a tirania e a opressão;\n",
        "Considerando que é essencial encorajar o desenvolvimento de relações amistosas entre as nações;\n",
        "Considerando que, na Carta, os povos das Nações Unidas proclamam, de novo, a sua fé nos direitos fundamentais do Homem, na dignidade e no valor da pessoa humana, na igualdade de direitos dos homens e das mulheres e se declaram resolvidos a favorecer o progresso social e a instaurar melhores condições de vida dentro de uma liberdade mais ampla;\n",
        "Considerando que os Estados membros se comprometeram a promover, em cooperação com a Organização das Nações Unidas, o respeito universal e efetivo dos direitos do Homem e das liberdades fundamentais;\n",
        "Considerando que uma concepção comum destes direitos e liberdades é da mais alta importância para dar plena satisfação a tal compromisso:\n",
        "A Assembléia Geral proclama a presente Declaração Universal dos Direitos Humanos como ideal comum a atingir por todos os povos e todas as nações, a fim de que todos os indivíduos e todos os órgãos da sociedade, tendo-a constantemente no espírito, se esforcem, pelo ensino e pela educação, por desenvolver o respeito desses direitos e liberdades e por promover, por medidas progressivas de ordem nacional e internacional, o seu reconhecimento e a sua aplicação universais e efetivos tanto entre as populações dos próprios Estados membros como entre as dos territórios colocados sob a sua jurisdição.\n",
        "Artigo 1°\n",
        "Todos os seres humanos nascem livres e iguais em dignidade e em direitos. Dotados de razão e de consciência, devem agir uns para com os outros em espírito de fraternidade.\n",
        "Artigo 2°\n",
        "Todos os seres humanos podem invocar os direitos e as liberdades proclamados na presente Declaração, sem distinção alguma, nomeadamente de raça, de cor, de sexo, de língua, de religião, de opinião política ou outra, de origem nacional ou social, de fortuna, de nascimento ou de qualquer outra situação. Além disso, não será feita nenhuma distinção fundada no estatuto\n",
        " \n",
        "político, jurídico ou internacional do país ou do território da naturalidade da pessoa, seja esse país ou território independente, sob tutela, autônomo ou sujeito a alguma limitação de soberania.\n",
        "Artigo 3°\n",
        "Artigo 4°\n",
        "Ninguém será mantido em escravatura ou em servidão; a escravatura e o trato dos escravos, sob todas as formas, são proibidos.\n",
        "Artigo 5°\n",
        "Ninguém será submetido a tortura nem a penas ou tratamentos cruéis, desumanos ou degradantes.\n",
        "Artigo 6°\n",
        "Todos os indivíduos têm direito ao reconhecimento, em todos os lugares, da sua personalidade jurídica.\n",
        "Artigo 7°\n",
        "Todos são iguais perante a lei e, sem distinção, têm direito a igual proteção da lei. Todos têm direito a proteção igual contra qualquer discriminação que viole a presente Declaração e contra qualquer incitamento a tal discriminação.\n",
        "Artigo 8°\n",
        "Toda a pessoa direito a recurso efetivo para as jurisdições nacionais competentes contra os atos que violem os direitos fundamentais reconhecidos pela Constituição ou pela lei.\n",
        "Artigo 9°\n",
        "Artigo 10°\n",
        "Toda a pessoa tem direito, em plena igualdade, a que a sua causa seja eqüitativa e publicamente julgada por um tribunal independente e imparcial que decida dos seus direitos e obrigações ou das razões de qualquer acusação em matéria penal que contra ela seja deduzida.\n",
        "Artigo 11°\n",
        "1. Toda a pessoa acusada de um ato delituoso presume-se inocente até que a sua culpabilidade fique legalmente provada no decurso de um processo público em que todas as garantias necessárias de defesa lhe sejam asseguradas.\n",
        "2. Ninguém será condenado por ações ou omissões que, no momento da sua prática, não constituíam ato delituoso à face do direito interno ou internacional. Do mesmo modo, não será infligida pena mais grave do que a que era aplicável no momento em que o acto delituoso foi cometido.\n",
        "Todo indivíduo tem direito à vida, à liberdade e à segurança pessoal.\n",
        "Ninguém pode ser arbitrariamente preso, detido ou exilado.\n",
        "\n",
        "Artigo 12°\n",
        "Ninguém sofrerá intromissões arbitrárias na sua vida privada, na sua família, no seu domicílio ou na sua correspondência, nem ataques à sua honra e reputação. Contra tais intromissões ou ataques toda a pessoa tem direito a proteção da lei.\n",
        "Artigo 13°\n",
        "1. Toda a pessoa tem o direito de livremente circular e escolher a sua residência no interior de um Estado.\n",
        "2. Toda a pessoa tem o direito de abandonar o país em que se encontra, incluindo o seu, e o direito de regressar ao seu país.\n",
        "Artigo 14°\n",
        "1. Toda a pessoa sujeita a perseguição tem o direito de procurar e de beneficiar de asilo em outros países.\n",
        "2. Este direito não pode, porém, ser invocado no caso de processo realmente existente por crime de direito comum ou por atividades contrárias aos fins e aos princípios das Nações Unidas.\n",
        "Artigo 15°\n",
        "1. Todo o indivíduo tem direito a ter uma nacionalidade.\n",
        "2. Ninguém pode ser arbitrariamente privado da sua nacionalidade nem do direito de mudar\n",
        "de nacionalidade.\n",
        "Artigo 16°\n",
        "1. A partir da idade núbil, o homem e a mulher têm o direito de casar e de constituir família, sem restrição alguma de raça, nacionalidade ou religião. Durante o casamento e na altura da sua dissolução, ambos têm direitos iguais.\n",
        "2. O casamento não pode ser celebrado sem o livre e pleno consentimento dos futuros esposos.\n",
        "3. A família é o elemento natural e fundamental da sociedade e tem direito à proteção desta e do Estado.\n",
        "Artigo 17°\n",
        "1. Toda a pessoa, individual ou coletiva, tem direito à propriedade.\n",
        "2. Ninguém pode ser arbitrariamente privado da sua propriedade.\n",
        "Artigo 18°\n",
        "Toda a pessoa tem direito à liberdade de pensamento, de consciência e de religião; este direito implica a liberdade de mudar de religião ou de convicção, assim como a liberdade de manifestar a religião ou convicção, sozinho ou em comum, tanto em público como em privado, pelo ensino, pela prática, pelo culto e pelos ritos.\n",
        "Artigo 19°\n",
        "Todo o indivíduo tem direito à liberdade de opinião e de expressão, o que implica o direito de não ser inquietado pelas suas opiniões e o de procurar, receber e difundir, sem consideração de fronteiras, informações e idéias por qualquer meio de expressão.\n",
        "\n",
        "Artigo 20°\n",
        "1. Toda a pessoa tem direito à liberdade de reunião e de associação pacíficas.\n",
        "2. Ninguém pode ser obrigado a fazer parte de uma associação.\n",
        "Artigo 21°\n",
        "1. Toda a pessoa tem o direito de tomar parte na direção dos negócios, públicos do seu país, quer diretamente, quer por intermédio de representantes livremente escolhidos.\n",
        "2. Toda a pessoa tem direito de acesso, em condições de igualdade, às funções públicas do seu país.\n",
        "3. A vontade do povo é o fundamento da autoridade dos poderes públicos: e deve exprimir-se através de eleições honestas a realizar periodicamente por sufrágio universal e igual, com voto secreto ou segundo processo equivalente que salvaguarde a liberdade de voto.\n",
        "Artigo 22°\n",
        "Toda a pessoa, como membro da sociedade, tem direito à segurança social; e pode legitimamente exigir a satisfação dos direitos econômicos, sociais e culturais indispensáveis, graças ao esforço nacional e à cooperação internacional, de harmonia com a organização e os recursos de cada país.\n",
        "Artigo 23°\n",
        "1. Toda a pessoa tem direito ao trabalho, à livre escolha do trabalho, a condições eqüitativas e satisfatórias de trabalho e à proteção contra o desemprego.\n",
        "2. Todos têm direito, sem discriminação alguma, a salário igual por trabalho igual.\n",
        "3. Quem trabalha tem direito a uma remuneração eqüitativa e satisfatória, que lhe permita e à sua família uma existência conforme com a dignidade humana, e completada, se possível,\n",
        "por todos os outros meios de proteção social.\n",
        "4. Toda a pessoa tem o direito de fundar com outras pessoas sindicatos e de se filiar em\n",
        "sindicatos para defesa dos seus interesses.\n",
        "Artigo 24°\n",
        "Toda a pessoa tem direito ao repouso e aos lazeres, especialmente, a uma limitação razoável da duração do trabalho e as férias periódicas pagas.\n",
        "Artigo 25°\n",
        "1. Toda a pessoa tem direito a um nível de vida suficiente para lhe assegurar e à sua família a saúde e o bem-estar, principalmente quanto à alimentação, ao vestuário, ao alojamento, à assistência médica e ainda quanto aos serviços sociais necessários, e tem direito à segurança no desemprego, na doença, na invalidez, na viuvez, na velhice ou noutros casos de perda de meios de subsistência por circunstâncias independentes da sua vontade.\n",
        "2. A maternidade e a infância têm direito a ajuda e a assistência especiais. Todas as crianças, nascidas dentro ou fora do matrimônio, gozam da mesma proteção social.\n",
        "Artigo 26°\n",
        "1. Toda a pessoa tem direito à educação. A educação deve ser gratuita, pelo menos a correspondente ao ensino elementar fundamental. O ensino elementar é obrigatório. O ensino técnico e profissional dever ser generalizado; o acesso aos estudos superiores deve estar aberto a todos em plena igualdade, em função do seu mérito.\n",
        "\n",
        "2. A educação deve visar à plena expansão da personalidade humana e ao reforço dos direitos do Homem e das liberdades fundamentais e deve favorecer a compreensão, a tolerância e a amizade entre todas as nações e todos os grupos raciais ou religiosos, bem como o desenvolvimento das atividades das Nações Unidas para a manutenção da paz.\n",
        "3. Aos pais pertence a prioridade do direito de escolher o gênero de educação a dar aos filhos.\n",
        "Artigo 27°\n",
        "1. Toda a pessoa tem o direito de tomar parte livremente na vida cultural da comunidade, de fruir as artes e de participar no progresso científico e nos benefícios que deste resultam.\n",
        "2. Todos têm direito à proteção dos interesses morais e materiais ligados a qualquer\n",
        "produção científica, literária ou artística da sua autoria.\n",
        "Artigo 28°\n",
        "Toda a pessoa tem direito a que reine, no plano social e no plano internacional, uma ordem capaz de tornar plenamente efetivos os direitos e as liberdades enunciadas na presente Declaração.\n",
        "Artigo 29°\n",
        "1. O indivíduo tem deveres para com a comunidade, fora da qual não é possível o livre e pleno desenvolvimento da sua personalidade.\n",
        "No exercício deste direito e no gozo destas liberdades ninguém está sujeito senão às limitações estabelecidas pela lei com vista exclusivamente a promover o reconhecimento e o respeito dos direitos e\n",
        "2. liberdades dos outros e a fim de satisfazer as justas exigências da moral, da ordem pública e do bem-estar numa sociedade democrática.\n",
        "3. Em caso algum estes direitos e liberdades poderão ser exercidos contrariamente e aos fins e aos princípios das Nações Unidas.\n",
        "Artigo 30°\n",
        "Nenhuma disposição da presente Declaração pode ser interpretada de maneira a envolver para qualquer Estado, agrupamento ou indivíduo o direito de se entregar a alguma atividade ou de praticar algum ato destinado a destruir os direitos e liberdades aqui enunciados.\n",
        "\"\"\""
      ]
    },
    {
      "cell_type": "code",
      "execution_count": 56,
      "metadata": {
        "id": "MYCOFsLWO6iE"
      },
      "outputs": [],
      "source": [
        "dHEspEncoded = dHEsp.encode()\n",
        "dHPortEncoded = dHPort.encode()"
      ]
    },
    {
      "cell_type": "code",
      "execution_count": null,
      "metadata": {
        "id": "2TDRX7K_zuFY"
      },
      "outputs": [],
      "source": [
        "reviewsTexts = reviews[[\"text\"]]\n",
        "reviewsTexts.dropna(inplace=True)\n",
        "# Chequar filtrado\n",
        "#reviewsTexts = reviewsTexts.dropna()\n",
        "reviewsTextsSample = reviewsTexts.sample(200000, random_state = 24)\n",
        "reviewsTextsList = reviewsTextsSample[\"text\"].to_list()"
      ]
    },
    {
      "cell_type": "code",
      "execution_count": null,
      "metadata": {
        "id": "KVePZGVvUMft"
      },
      "outputs": [],
      "source": [
        "ncDistSp = []\n",
        "ncDistPo = []\n",
        "for review in tqdm(reviewsTextsList):\n",
        "  ncDistSp.append(ncd(review.encode(), dHEspEncoded))\n",
        "  ncDistPo.append(ncd(review.encode(), dHPortEncoded))"
      ]
    },
    {
      "cell_type": "code",
      "execution_count": 62,
      "metadata": {
        "id": "WOxAhS-HWe3r"
      },
      "outputs": [],
      "source": [
        "reviewsTextsSample['ncdSp'] = ncDistSp\n",
        "reviewsTextsSample['ncdPo'] = ncDistPo"
      ]
    },
    {
      "cell_type": "code",
      "execution_count": null,
      "metadata": {
        "id": "as18vBnvFStd"
      },
      "outputs": [],
      "source": [
        "spanishReview = reviewsTextsSample.nsmallest(1, columns='ncdSp')['text'].to_list()[0]\n",
        "print('Spanish Review:\\n',spanishReview)"
      ]
    },
    {
      "cell_type": "code",
      "execution_count": null,
      "metadata": {
        "id": "sovVNlLzFdGa"
      },
      "outputs": [],
      "source": [
        "portugueseReview = reviewsTextsSample.nsmallest(1, columns='ncdPo')['text'].to_list()[0]\n",
        "print('Portuguese Review:\\n',portugueseReview)"
      ]
    },
    {
      "cell_type": "markdown",
      "metadata": {
        "id": "SMNnLu-A0Jok"
      },
      "source": [
        "# C7 \n",
        "### Para aquellos negocios que tengan más de 5 sucursales y su distribución probabilística de sucursales por ciudad. Calcule la divergencia de Kullback Leibler entre todos los negocios:\n",
        "### ¿Por qué dan casi todas infinito? Para corregirlo recalcule todo sumando 1*10^-10 en el denominador del logaritmo.\n",
        "### ¿A qué negocios y en qué sentido corresponde la menor divergencia de Kullback Leibler? (recordar que la divergencia es dirigida)\n",
        "### Cuál es el negocio con mejor divergencia de Kullback-Leibler respecto de Burger King? ¿Y de McDonalds?"
      ]
    },
    {
      "cell_type": "code",
      "execution_count": null,
      "metadata": {
        "id": "SzHAMK0JEOlV"
      },
      "outputs": [],
      "source": [
        "businessesPerCity = businesses[[\"name\", 'city']]\n",
        "businessesPerCity.dropna(inplace=True)\n",
        "amountOfStoresPerCity = businessesPerCity.groupby(\"name\").agg({\"city\": \"count\"})"
      ]
    },
    {
      "cell_type": "code",
      "execution_count": 67,
      "metadata": {
        "id": "QnXIZUVF-tsX"
      },
      "outputs": [],
      "source": [
        "# Me quedo con los negocios que tienen mas de cinco sucursales en TOTAL\n",
        "moreThanFiveStores = amountOfStoresPerCity.loc[amountOfStoresPerCity['city'] > 5]"
      ]
    },
    {
      "cell_type": "code",
      "execution_count": 68,
      "metadata": {
        "id": "uzB814dQEqZr"
      },
      "outputs": [],
      "source": [
        "# Cantidad de locales en total\n",
        "moreThanFiveStores = moreThanFiveStores.rename(columns={\"city\": \"total_stores\"})\n",
        "moreThanFiveStores = moreThanFiveStores.reset_index()"
      ]
    },
    {
      "cell_type": "code",
      "execution_count": 69,
      "metadata": {
        "id": "fjqBL6rt-h8L"
      },
      "outputs": [],
      "source": [
        "# Ahora busco la cantidad de sucursales por ciudad de cada local\n",
        "amountStoresPerCity = businessesPerCity.groupby([\"city\", \"name\"]).agg({\"name\": \"count\"})\n",
        "amountStoresPerCity = amountStoresPerCity.rename(columns={\"name\": \"total_stores_in_city\"})"
      ]
    },
    {
      "cell_type": "code",
      "execution_count": 70,
      "metadata": {
        "id": "nEtfGXtf-vnG"
      },
      "outputs": [],
      "source": [
        "amountStoresPerCity = amountStoresPerCity.reset_index()"
      ]
    },
    {
      "cell_type": "code",
      "execution_count": null,
      "metadata": {
        "id": "srKxQDUPBXsD"
      },
      "outputs": [],
      "source": [
        "# Ahora tengo que calulcar la probabilidad de que cada negocio tenga una sucursal en cada ciudad --> \n",
        "# MN = el local de mcdonalds tiene sucursales en ny\n",
        "# P(MN) = #MN / #TM"
      ]
    },
    {
      "cell_type": "code",
      "execution_count": 75,
      "metadata": {
        "id": "Gikct87iI2UW"
      },
      "outputs": [],
      "source": [
        "storesDf = moreThanFiveStores.merge(amountStoresPerCity, left_on=\"name\", right_on=\"name\")"
      ]
    },
    {
      "cell_type": "code",
      "execution_count": 76,
      "metadata": {
        "id": "roHFvg42Qso1"
      },
      "outputs": [],
      "source": [
        "storesDf = storesDf.assign(probability = lambda x: x.total_stores_in_city / x.total_stores)"
      ]
    },
    {
      "cell_type": "code",
      "execution_count": null,
      "metadata": {
        "id": "5E5orlc2xlPU"
      },
      "outputs": [],
      "source": [
        "storesDf = pd.pivot_table(data=storesDf, columns ='city',index='name', fill_value=0)\n",
        "storesDf = storesDf[['probability']]"
      ]
    },
    {
      "cell_type": "code",
      "execution_count": 78,
      "metadata": {
        "id": "4T8Z12s32EpX"
      },
      "outputs": [],
      "source": [
        "# Me quedo con un sample\n",
        "storesDfSample = storesDf[:1000]\n",
        "storesDfMatrix = storesDfSample.values.tolist()"
      ]
    },
    {
      "cell_type": "code",
      "execution_count": 79,
      "metadata": {
        "id": "CGlcOMos19Es"
      },
      "outputs": [],
      "source": [
        "divergencias = []\n",
        "for row in storesDfMatrix:\n",
        "  div = []\n",
        "  for row2 in storesDfMatrix:\n",
        "    div.append(entropy(row,row2,base=2))\n",
        "  divergencias.append(div)"
      ]
    },
    {
      "cell_type": "code",
      "execution_count": 81,
      "metadata": {
        "id": "oyvvXBJv3LmK"
      },
      "outputs": [],
      "source": [
        "dklDf = pd.DataFrame(divergencias, index=storesDfSample.index, columns=storesDfSample.index)"
      ]
    },
    {
      "cell_type": "code",
      "execution_count": 83,
      "metadata": {
        "id": "t7Kzy2TvhMtG"
      },
      "outputs": [],
      "source": [
        "def KL(a, b):\n",
        "    a = np.asarray(a, dtype=float)\n",
        "    b = np.asarray(b, dtype=float)\n",
        "    e = (1*1e-10)\n",
        "\n",
        "    return abs(np.sum(np.where(a != 0, a * np.log(a / (b + e)), 0)))"
      ]
    },
    {
      "cell_type": "code",
      "execution_count": null,
      "metadata": {
        "id": "LaROfiKNnAyt"
      },
      "outputs": [],
      "source": [
        "divergenciasConError = []\n",
        "for row in storesDfMatrix:\n",
        "  div = []\n",
        "  for row2 in storesDfMatrix:\n",
        "    if row == row2: div.append(0) # OJO CON ESTO SON LISTAS\n",
        "    else: div.append(KL(row,row2))\n",
        "  divergenciasConError.append(div)"
      ]
    },
    {
      "cell_type": "code",
      "execution_count": 86,
      "metadata": {
        "id": "HDy6oEAv6fl0"
      },
      "outputs": [],
      "source": [
        "dklPersonalizadoDf = pd.DataFrame(divergenciasConError, index=storesDfSample.index, columns=storesDfSample.index)"
      ]
    },
    {
      "cell_type": "code",
      "execution_count": 89,
      "metadata": {
        "id": "GDgzxMteBg20"
      },
      "outputs": [],
      "source": [
        "# Min divergencia\n",
        "minDiv = float('inf')\n",
        "for row in divergenciasConError:\n",
        "  for value in row:\n",
        "    if value == 0: continue\n",
        "    elif value < minDiv: minDiv = value"
      ]
    },
    {
      "cell_type": "code",
      "execution_count": 90,
      "metadata": {
        "id": "byNRa2w3B6x7"
      },
      "outputs": [],
      "source": [
        "for row in dklPersonalizadoDf.iterrows():\n",
        "  name, _ = row\n",
        "  for column in dklPersonalizadoDf.iteritems():\n",
        "    name2, _ = column\n",
        "    if dklPersonalizadoDf.loc[name, name2] == minDiv: storesName = (name, name2)"
      ]
    },
    {
      "cell_type": "code",
      "execution_count": 91,
      "metadata": {
        "colab": {
          "base_uri": "https://localhost:8080/"
        },
        "id": "UdWy84ZACbcu",
        "outputId": "da9aa6aa-56c6-48e1-c6bb-8381dbc30bfe"
      },
      "outputs": [
        {
          "name": "stdout",
          "output_type": "stream",
          "text": [
            "Negocios con la menor divergencia desde: Edo Japan hacia Booster Juice\n"
          ]
        }
      ],
      "source": [
        "print(\"Negocios con la menor divergencia desde:\", storesName[0], \"hacia\", storesName[1])"
      ]
    },
    {
      "cell_type": "code",
      "execution_count": 92,
      "metadata": {
        "id": "awn1pkJODcEK"
      },
      "outputs": [],
      "source": [
        "# Negocio con mejor divergencia respecto de Burger King y McDonald's\n",
        "def storeWithMinDkl(df):\n",
        "  minValue = float('inf')\n",
        "  for row in df.iterrows():\n",
        "    store, _ = row\n",
        "    for col in df.iteritems():\n",
        "      store2, _ = col\n",
        "      if store != store2 and df.loc[store, store2] < minValue: \n",
        "        minDklStores = (store, store2)\n",
        "        minValue = df.loc[store, store2]\n",
        "  return minDklStores"
      ]
    },
    {
      "cell_type": "code",
      "execution_count": 93,
      "metadata": {
        "colab": {
          "base_uri": "https://localhost:8080/"
        },
        "id": "jFcedsfyFfgv",
        "outputId": "74fa2bf1-1533-4d19-a490-a457f6664960"
      },
      "outputs": [
        {
          "name": "stdout",
          "output_type": "stream",
          "text": [
            "El negocio con la menor divergencia respecto de Burger King es McDonald's\n",
            "El negocio con la menor divergencia respecto de McDonald's es Starbucks\n"
          ]
        }
      ],
      "source": [
        "dfDklBurgerKing = dklPersonalizadoDf.loc[[\"Burger King\"]]\n",
        "dfDklMcDonalds = dklPersonalizadoDf.loc[[\"McDonald's\"]]\n",
        "\n",
        "minDklBurgerKing = storeWithMinDkl(dfDklBurgerKing)\n",
        "minDklMcDonalds = storeWithMinDkl(dfDklMcDonalds)\n",
        "\n",
        "print(\"El negocio con la menor divergencia respecto de\", minDklBurgerKing[0], \"es\", minDklBurgerKing[1])\n",
        "print(\"El negocio con la menor divergencia respecto de\", minDklMcDonalds[0], \"es\", minDklMcDonalds[1])"
      ]
    },
    {
      "cell_type": "markdown",
      "metadata": {
        "id": "STN5QUDEln_v"
      },
      "source": [
        "# C4\n",
        "### Si tomamos una muestra de negocios con más de 10 reviews y todas sus reviews como un texto concatenado, en términos de distancia de compresión normalizada para esos textos, cuáles son los dos negocios más parecidos? Muestrelos sus textos y distancia."
      ]
    },
    {
      "cell_type": "code",
      "execution_count": null,
      "metadata": {
        "id": "fVGBZepQXVGp"
      },
      "outputs": [],
      "source": [
        "reviewsTexts = reviews[['business_id', 'text']]\n",
        "businessReviewCount = businesses[['name', 'business_id', 'review_count']]\n",
        "reviewsTexts.dropna(inplace=True)\n",
        "businessReviewCount.dropna(inplace=True)"
      ]
    },
    {
      "cell_type": "code",
      "execution_count": 96,
      "metadata": {
        "id": "839hJlwCO97Q"
      },
      "outputs": [],
      "source": [
        "businessReviewCount = businessReviewCount.groupby(\"business_id\").agg({\"review_count\": (lambda x: x > 5)})"
      ]
    },
    {
      "cell_type": "code",
      "execution_count": 97,
      "metadata": {
        "id": "Icq0VPs_mYzP"
      },
      "outputs": [],
      "source": [
        "businessesReviewText = businessReviewCount.merge(reviewsTexts, left_on='business_id', right_on='business_id')\n",
        "businessesReviewText = businessesReviewText.drop(columns=\"review_count\")\n",
        "businessesReviewText = businessesReviewText.groupby(\"business_id\").agg({\"text\": \"sum\"})"
      ]
    },
    {
      "cell_type": "code",
      "execution_count": 98,
      "metadata": {
        "id": "VwohpbvFqOeb"
      },
      "outputs": [],
      "source": [
        "businessesReviewTextSample = businessesReviewText[:200]\n",
        "businessesReviewList = businessesReviewTextSample.values.tolist()"
      ]
    },
    {
      "cell_type": "code",
      "execution_count": 99,
      "metadata": {
        "id": "DfzyQYHjtydW"
      },
      "outputs": [],
      "source": [
        "import zstandard\n",
        "import pickle"
      ]
    },
    {
      "cell_type": "code",
      "execution_count": 101,
      "metadata": {
        "id": "dDvNQrSDU0iX"
      },
      "outputs": [],
      "source": [
        "ncdMatrix = []\n",
        "for row in businessesReviewList:\n",
        "  ncdValues = []\n",
        "  for row2 in businessesReviewList:\n",
        "    if row[0] == row2[0]: ncdValues.append(0)\n",
        "    else: ncdValues.append(ncd(row[0].encode(), row2[0].encode()))\n",
        "  ncdMatrix.append(ncdValues)"
      ]
    },
    {
      "cell_type": "code",
      "execution_count": 102,
      "metadata": {
        "id": "Ns7AssjNfDfL"
      },
      "outputs": [],
      "source": [
        "minDist = float('inf')\n",
        "for row in ncdMatrix:\n",
        "  for value in row:\n",
        "    if value == 0: continue\n",
        "    elif value < minDist: minDist = value"
      ]
    },
    {
      "cell_type": "code",
      "execution_count": 103,
      "metadata": {
        "id": "I--sB0xtZ65a"
      },
      "outputs": [],
      "source": [
        "ncdDf = pd.DataFrame(ncdMatrix, index=businessesReviewTextSample.index, columns=businessesReviewTextSample.index)"
      ]
    },
    {
      "cell_type": "code",
      "execution_count": 104,
      "metadata": {
        "id": "g8ozApJil2t6"
      },
      "outputs": [],
      "source": [
        "# Encuentro el id de los locales que mas se parecen\n",
        "for row in ncdDf.iterrows():\n",
        "  idRow, _ = row\n",
        "  for column in ncdDf.iteritems():\n",
        "    idCol, _ = column\n",
        "    if ncdDf.loc[idRow, idCol] == minDist: storesId = (idRow, idCol)"
      ]
    },
    {
      "cell_type": "code",
      "execution_count": 105,
      "metadata": {
        "colab": {
          "base_uri": "https://localhost:8080/"
        },
        "id": "AIsxNrtYonbr",
        "outputId": "61d9e433-0aa8-4a14-a106-101501f7c403"
      },
      "outputs": [
        {
          "name": "stdout",
          "output_type": "stream",
          "text": [
            "The most similar Stores are: Santa Barbara Balayage by Kara Richard and Bank of America Financial Center\n"
          ]
        }
      ],
      "source": [
        "store1 = businesses.loc[businesses['business_id'] == storesId[0]].values[0][1]\n",
        "store2 = businesses.loc[businesses['business_id'] == storesId[1]].values[0][1]\n",
        "print(\"The most similar Stores are:\", store1, \"and\", store2)"
      ]
    }
  ],
  "metadata": {
    "colab": {
      "collapsed_sections": [],
      "name": "parte-1.ipynb",
      "provenance": []
    },
    "interpreter": {
      "hash": "aee8b7b246df8f9039afb4144a1f6fd8d2ca17a180786b69acc140d282b71a49"
    },
    "kernelspec": {
      "display_name": "Python 3.9.12 64-bit",
      "language": "python",
      "name": "python3"
    },
    "language_info": {
      "codemirror_mode": {
        "name": "ipython",
        "version": 3
      },
      "file_extension": ".py",
      "mimetype": "text/x-python",
      "name": "python",
      "nbconvert_exporter": "python",
      "pygments_lexer": "ipython3",
      "version": "3.10.4"
    },
    "orig_nbformat": 4
  },
  "nbformat": 4,
  "nbformat_minor": 0
}
